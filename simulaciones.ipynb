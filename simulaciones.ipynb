{
 "cells": [
  {
   "cell_type": "code",
   "execution_count": 10,
   "id": "31273eec-ef76-4217-9844-8257cb3e9ec4",
   "metadata": {},
   "outputs": [],
   "source": [
    "#libraries\n",
    "import numpy as np\n",
    "import matplotlib.pyplot as plt"
   ]
  },
  {
   "cell_type": "code",
   "execution_count": 11,
   "id": "c728ee4a-789a-4b98-84b8-600afae01b10",
   "metadata": {},
   "outputs": [
    {
     "name": "stdout",
     "output_type": "stream",
     "text": [
      "Simulation Time: 14.9. Simulation Velocity: 65.79865771812081.\n"
     ]
    }
   ],
   "source": [
    "#simulation units\n",
    "G = 1 #gravity constant\n",
    "len_sim = 1 #length of simulation in parsec\n",
    "mass_unit = 1 #mass unit in solar masses\n",
    "T_sim = 14.9 * np.sqrt((len_sim**3)/mass_unit) #time unit conversion in Myr\n",
    "vel_sim = 980.4 * (len_sim/T_sim) #velocity unit conversion in m/s\n",
    "print(f'Simulation Time: {T_sim}. Simulation Velocity: {vel_sim}.')"
   ]
  },
  {
   "cell_type": "code",
   "execution_count": 15,
   "id": "d22fea2b-5b36-477f-9312-c6715a903971",
   "metadata": {},
   "outputs": [
    {
     "name": "stdout",
     "output_type": "stream",
     "text": [
      "1.0\n"
     ]
    }
   ],
   "source": [
    "#initial conditions\n",
    "x, y, z = 0.5/len_sim, 0.2/len_sim, 0.6/len_sim\n",
    "vx, vy, vz = 100/vel_sim, 80/vel_sim, 60/vel_sim\n",
    "\n",
    "t_end = 149/T_sim\n",
    "N_steps = 10\n",
    "t, dt = 0, t_end/N_steps\n"
   ]
  },
  {
   "cell_type": "code",
   "execution_count": 17,
   "id": "c97a8a41-ebb4-4430-a9bb-6392cd599de6",
   "metadata": {},
   "outputs": [
    {
     "data": {
      "text/plain": [
       "'utlimo cambio'"
      ]
     },
     "execution_count": 17,
     "metadata": {},
     "output_type": "execute_result"
    }
   ],
   "source": [
    "'utlimo cambio'"
   ]
  },
  {
   "cell_type": "code",
   "execution_count": null,
   "id": "8071b1c8-65ec-417f-bab3-ef060e597ea1",
   "metadata": {},
   "outputs": [],
   "source": []
  }
 ],
 "metadata": {
  "kernelspec": {
   "display_name": "Python 3 (ipykernel)",
   "language": "python",
   "name": "python3"
  },
  "language_info": {
   "codemirror_mode": {
    "name": "ipython",
    "version": 3
   },
   "file_extension": ".py",
   "mimetype": "text/x-python",
   "name": "python",
   "nbconvert_exporter": "python",
   "pygments_lexer": "ipython3",
   "version": "3.9.13"
  }
 },
 "nbformat": 4,
 "nbformat_minor": 5
}
