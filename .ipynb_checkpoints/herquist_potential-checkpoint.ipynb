{
 "cells": [
  {
   "cell_type": "code",
   "execution_count": 7,
   "id": "789eeca0-33da-414f-a280-c67efb1358d6",
   "metadata": {},
   "outputs": [],
   "source": [
    "#libraries\n",
    "import h5py\n",
    "import matplotlib.pyplot as plt\n",
    "import scienceplots\n",
    "import numpy as np\n",
    "\n",
    "plt.rcParams.update({\n",
    "    \"text.usetex\": True,\n",
    "    \"font.family\": \"serif\",\n",
    "    'font.size': 30,         #tamaño de fuente general\n",
    "    'axes.titlesize': 30,    #tamaño de fuente para títulos de ejes\n",
    "    'axes.labelsize': 30,    #tamaño de fuente para etiquetas de ejes\n",
    "    'xtick.labelsize': 30,   #tamaño de fuente para etiquetas del eje x\n",
    "    'ytick.labelsize': 30,   #tamaño de fuente para etiquetas del eje y\n",
    "    'legend.fontsize': 30,   #tamaño de fuente para la leyenda\n",
    "    'figure.titlesize': 30   #tamaño de fuente para el título de la figura\n",
    "})\n",
    "\n",
    "plt.style.use(['science', 'grid'])"
   ]
  },
  {
   "cell_type": "code",
   "execution_count": 2,
   "id": "4f56b0cf-bf78-4fb1-9fa2-e956ca29c0aa",
   "metadata": {},
   "outputs": [
    {
     "name": "stdout",
     "output_type": "stream",
     "text": [
      "Simulation Time: 14.9. Simulation Velocity: 65.79865771812081.\n"
     ]
    }
   ],
   "source": [
    "#simulation units\n",
    "G = 1 #gravity constant\n",
    "len_sim = 1 #length of simulation in parsec\n",
    "mass_unit = 1 #mass unit in solar masses\n",
    "T_sim = 14.9 * np.sqrt((len_sim**3)/mass_unit) #time unit conversion in Myr\n",
    "vel_sim = 980.4 * (len_sim/T_sim) #velocity unit conversion in m/s\n",
    "print(f'Simulation Time: {T_sim}. Simulation Velocity: {vel_sim}.')"
   ]
  },
  {
   "cell_type": "code",
   "execution_count": 3,
   "id": "7f7cca23-7b92-4406-ad0c-4d9cb9fc2d73",
   "metadata": {},
   "outputs": [],
   "source": [
    "#initial conditions\n",
    "mass = 1/mass_unit\n",
    "x, y, z = 10/len_sim, 0/len_sim, 0/len_sim\n",
    "r = np.sqrt(x*x + y*y + z*z)\n",
    "v_circ = np.sqrt((G*mass)/r) #ya tiene unidades de simulacion\n",
    "vx, vy, vz = 0/vel_sim, v_circ, 0/vel_sim\n",
    "\n",
    "N_steps = 10**5\n",
    "t_orbit = ( (2*np.pi*r)/v_circ)\n",
    "t_end = 10*t_orbit\n",
    "\n",
    "t, dt = 0, t_end/N_steps"
   ]
  },
  {
   "cell_type": "code",
   "execution_count": 4,
   "id": "78e8dc48-b09d-4ef7-84f5-40d01d47fd8c",
   "metadata": {},
   "outputs": [
    {
     "ename": "SyntaxError",
     "evalue": "invalid syntax (1804365643.py, line 14)",
     "output_type": "error",
     "traceback": [
      "\u001b[0;36m  Cell \u001b[0;32mIn[4], line 14\u001b[0;36m\u001b[0m\n\u001b[0;31m    a =\u001b[0m\n\u001b[0m        ^\u001b[0m\n\u001b[0;31mSyntaxError\u001b[0m\u001b[0;31m:\u001b[0m invalid syntax\n"
     ]
    }
   ],
   "source": [
    "#orbit simulation\n",
    "x_arr, y_arr, z_arr = np.ones(N_steps, dtype = float), np.ones(N_steps, dtype = float), np.ones(N_steps, dtype = float)\n",
    "vx_arr, vy_arr, vz_arr = np.ones(N_steps, dtype = float), np.ones(N_steps, dtype = float), np.ones(N_steps, dtype = float)\n",
    "t_arr = np.ones(N_steps, dtype = float)\n",
    "r_arr = np.ones(N_steps, dtype = float)\n",
    "for i in range(0, N_steps):\n",
    "    x_arr[i], y_arr[i], z_arr[i] = x, y, z\n",
    "    vx_arr[i], vy_arr[i], vz_arr[i] = vx, vy, vz\n",
    "    \n",
    "    r = np.sqrt(x*x + y*y + z*z)\n",
    "    r_arr[i] = r\n",
    "    \n",
    "    #enclosed mass hernquist\n",
    "    a = \n",
    "    m_total = \n",
    "    m_hern = m_total* ( (r*r)/((r+a)**2) )\n",
    "\n",
    "    #enclosed mass NFW\n",
    "    #m_200 = \n",
    "    #r_200 = \n",
    "    #c = 5\n",
    "    #s = r/r_200\n",
    "    #g_c = 1/ ( np.log(1+c) - (c/(1+c)) )\n",
    "    #m_NFW = m_200 * g_c * ( np.log(1 + (c*s)) - ( (c*s)/(1 + c*s) ) )\n",
    "    \n",
    "    ax, ay, az = (-(G*mass)/(r**2))*(x/r), (-(G*mass)/(r**2))*(y/r), (-(G*mass)/(r**2))*(z/r)\n",
    "    vx, vy, vz = vx + ax*dt, vy + ay*dt, vz + az*dt\n",
    "    x, y, z = x + vx*dt, y + vy*dt, z + vz*dt\n",
    "    t_arr[i] = t \n",
    "    t = i*dt"
   ]
  },
  {
   "cell_type": "code",
   "execution_count": 5,
   "id": "25094b8d-122c-45c3-b26d-c6e29b2649b1",
   "metadata": {},
   "outputs": [
    {
     "ename": "NameError",
     "evalue": "name 'x_arr' is not defined",
     "output_type": "error",
     "traceback": [
      "\u001b[0;31m---------------------------------------------------------------------------\u001b[0m",
      "\u001b[0;31mNameError\u001b[0m                                 Traceback (most recent call last)",
      "Cell \u001b[0;32mIn[5], line 4\u001b[0m\n\u001b[1;32m      1\u001b[0m fig \u001b[38;5;241m=\u001b[39m plt\u001b[38;5;241m.\u001b[39mfigure(figsize \u001b[38;5;241m=\u001b[39m (\u001b[38;5;241m10\u001b[39m,\u001b[38;5;241m4\u001b[39m))\n\u001b[1;32m      2\u001b[0m ax \u001b[38;5;241m=\u001b[39m fig\u001b[38;5;241m.\u001b[39msubplots(\u001b[38;5;241m1\u001b[39m,\u001b[38;5;241m2\u001b[39m)\n\u001b[0;32m----> 4\u001b[0m ax[\u001b[38;5;241m0\u001b[39m]\u001b[38;5;241m.\u001b[39mscatter(\u001b[43mx_arr\u001b[49m, y_arr, s \u001b[38;5;241m=\u001b[39m \u001b[38;5;241m1\u001b[39m)\n\u001b[1;32m      5\u001b[0m ax[\u001b[38;5;241m0\u001b[39m]\u001b[38;5;241m.\u001b[39mset_xlabel(\u001b[38;5;124m'\u001b[39m\u001b[38;5;124mx\u001b[39m\u001b[38;5;124m'\u001b[39m)\n\u001b[1;32m      6\u001b[0m ax[\u001b[38;5;241m0\u001b[39m]\u001b[38;5;241m.\u001b[39mset_ylabel(\u001b[38;5;124m'\u001b[39m\u001b[38;5;124my\u001b[39m\u001b[38;5;124m'\u001b[39m)\n",
      "\u001b[0;31mNameError\u001b[0m: name 'x_arr' is not defined"
     ]
    },
    {
     "data": {
      "image/png": "[encoded data removed]",
      "text/plain": [
       "<Figure size 1000x400 with 2 Axes>"
      ]
     },
     "metadata": {},
     "output_type": "display_data"
    }
   ],
   "source": [
    "fig = plt.figure(figsize = (10,4))\n",
    "ax = fig.subplots(1,2)\n",
    "\n",
    "ax[0].scatter(x_arr, y_arr, s = 1)\n",
    "ax[0].set_xlabel('x')\n",
    "ax[0].set_ylabel('y')\n",
    "\n",
    "ax[1].plot(t_arr, r_arr)\n",
    "ax[1].set_xlabel('time')\n",
    "ax[1].set_ylabel('r')\n",
    "ax[1].set_ylim(9, 11)\n",
    "\n",
    "fig.suptitle('Circular Orbit')\n",
    "plt.show()"
   ]
  },
  {
   "cell_type": "code",
   "execution_count": null,
   "id": "edcf2243-fbdf-4a64-96dc-b092a290035b",
   "metadata": {},
   "outputs": [],
   "source": []
  }
 ],
 "metadata": {
  "kernelspec": {
   "display_name": "Python 3 (ipykernel)",
   "language": "python",
   "name": "python3"
  },
  "language_info": {
   "codemirror_mode": {
    "name": "ipython",
    "version": 3
   },
   "file_extension": ".py",
   "mimetype": "text/x-python",
   "name": "python",
   "nbconvert_exporter": "python",
   "pygments_lexer": "ipython3",
   "version": "3.9.13"
  }
 },
 "nbformat": 4,
 "nbformat_minor": 5
}
